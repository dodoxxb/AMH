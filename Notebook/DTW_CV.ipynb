{
 "cells": [
  {
   "cell_type": "code",
   "execution_count": 27,
   "metadata": {},
   "outputs": [],
   "source": [
    "from dtaidistance import dtw\n",
    "from dtaidistance import ed\n",
    "import cv2 as cv\n",
    "import numpy as np\n",
    "import array"
   ]
  },
  {
   "cell_type": "code",
   "execution_count": 63,
   "metadata": {},
   "outputs": [
    {
     "name": "stdout",
     "output_type": "stream",
     "text": [
      "(224, 224)\n"
     ]
    }
   ],
   "source": [
    "img1 = cv.imread('./1.jpg')\n",
    "img2 = cv.imread('./2.jpg')\n",
    "img22 = cv.imread('./22.jpg')\n",
    "img3 = cv.imread('./3.jpg')\n",
    "img32 = cv.imread('./32.jpg')\n",
    "print(img1[:,:,0].shape)"
   ]
  },
  {
   "cell_type": "code",
   "execution_count": 64,
   "metadata": {},
   "outputs": [
    {
     "name": "stdout",
     "output_type": "stream",
     "text": [
      "(224, 224)\n"
     ]
    }
   ],
   "source": [
    "gray1 = cv.cvtColor(img1, cv.COLOR_BGR2GRAY)\n",
    "gray2 = cv.cvtColor(img2, cv.COLOR_BGR2GRAY)\n",
    "gray22 = cv.cvtColor(img22, cv.COLOR_BGR2GRAY)\n",
    "gray3 = cv.cvtColor(img3, cv.COLOR_BGR2GRAY)\n",
    "gray32 = cv.cvtColor(img32, cv.COLOR_BGR2GRAY)\n",
    "print(gray1.shape)"
   ]
  },
  {
   "cell_type": "code",
   "execution_count": 50,
   "metadata": {},
   "outputs": [
    {
     "name": "stdout",
     "output_type": "stream",
     "text": [
      "(200, 200)\n"
     ]
    }
   ],
   "source": [
    "series1 = gray1\n",
    "series2 = gray2\n",
    "series3 = gray3\n",
    "series22 = gray22\n",
    "series32 = gray32\n",
    "print(series22.shape)"
   ]
  },
  {
   "cell_type": "code",
   "execution_count": 51,
   "metadata": {},
   "outputs": [
    {
     "name": "stdout",
     "output_type": "stream",
     "text": [
      "0.0 1305.4520289922568 1765.7106218177428\n"
     ]
    }
   ],
   "source": [
    "from dtaidistance import dtw_ndim\n",
    "d11 = dtw_ndim.distance(series1, series1)\n",
    "d12 = dtw_ndim.distance(series1, series2)\n",
    "d13 = dtw_ndim.distance(series1, series3)\n",
    "print(d11, d12, d13)"
   ]
  },
  {
   "cell_type": "code",
   "execution_count": 60,
   "metadata": {},
   "outputs": [
    {
     "name": "stdout",
     "output_type": "stream",
     "text": [
      "309.1328683181768\n",
      "881.7900531349562\n"
     ]
    }
   ],
   "source": [
    "sum_d12 = 0\n",
    "for i in range(224):\n",
    "    seq1 = series1[i].reshape(1,-1)[0]\n",
    "    seq2 = series2[i].reshape(1,-1)[0]\n",
    "    # print(seq1)\n",
    "    seq1 = array.array('d', seq1)\n",
    "    seq2 = array.array('d', seq2)\n",
    "    temp_d = dtw.distance_fast(seq1, seq2)\n",
    "    sum_d12 += temp_d\n",
    "print(sum_d12/224)\n",
    "\n",
    "sum_ed12 = 0\n",
    "for i in range(224):\n",
    "    seq1 = series1[i].reshape(1,-1)[0]\n",
    "    seq2 = series2[i].reshape(1,-1)[0]\n",
    "    # print(seq1)\n",
    "    seq1 = array.array('d', seq1)\n",
    "    seq2 = array.array('d', seq2)\n",
    "    temp_d = ed.distance(seq1, seq2)\n",
    "    sum_ed12 += temp_d\n",
    "print(sum_ed12/224)"
   ]
  },
  {
   "cell_type": "code",
   "execution_count": 61,
   "metadata": {},
   "outputs": [
    {
     "name": "stdout",
     "output_type": "stream",
     "text": [
      "529.6843451133446\n",
      "1118.1399995205713\n"
     ]
    }
   ],
   "source": [
    "sum_d13 = 0\n",
    "for i in range(224):\n",
    "    seq1 = series1[i].reshape(1,-1)[0]\n",
    "    seq3 = series3[i].reshape(1,-1)[0]\n",
    "    # print(seq1)\n",
    "    seq1 = array.array('d', seq1)\n",
    "    seq3 = array.array('d', seq3)\n",
    "    temp_d = dtw.distance_fast(seq1, seq3)\n",
    "    sum_d13 += temp_d\n",
    "print(sum_d13/224)\n",
    "\n",
    "sum_ed13 = 0\n",
    "for i in range(224):\n",
    "    seq1 = series1[i].reshape(1,-1)[0]\n",
    "    seq3 = series3[i].reshape(1,-1)[0]\n",
    "    # print(seq1)\n",
    "    seq1 = array.array('d', seq1)\n",
    "    seq3 = array.array('d', seq3)\n",
    "    temp_d = ed.distance(seq1, seq3)\n",
    "    sum_ed13 += temp_d\n",
    "print(sum_ed13/224)"
   ]
  },
  {
   "cell_type": "code",
   "execution_count": 66,
   "metadata": {},
   "outputs": [
    {
     "name": "stdout",
     "output_type": "stream",
     "text": [
      "<class 'array.array'>\n"
     ]
    }
   ],
   "source": [
    "seq1 = gray1.reshape(1,-1)[0]\n",
    "seq2 = gray2.reshape(1,-1)[0]\n",
    "seq3 = gray3.reshape(1,-1)[0]\n",
    "seq22 = gray22.reshape(1,-1)[0]\n",
    "seq32 = gray32.reshape(1,-1)[0]\n",
    "seq1 = array.array('d', seq1)\n",
    "seq2 = array.array('d', seq2)\n",
    "seq3 = array.array('d', seq3)\n",
    "seq22 = array.array('d', seq22)\n",
    "seq32 = array.array('d', seq32)\n",
    "print(type(seq1))"
   ]
  },
  {
   "cell_type": "code",
   "execution_count": 67,
   "metadata": {},
   "outputs": [
    {
     "name": "stdout",
     "output_type": "stream",
     "text": [
      "3014.5445758853857 13702.610335260943\n"
     ]
    }
   ],
   "source": [
    "d_d12 = dtw.distance_fast(seq1, seq2)\n",
    "e_d12 = ed.distance_fast(seq1, seq2)\n",
    "print(d_d12, e_d12)"
   ]
  },
  {
   "cell_type": "code",
   "execution_count": 73,
   "metadata": {},
   "outputs": [
    {
     "ename": "MemoryError",
     "evalue": "Unable to allocate 18.8 GiB for an array with shape (50177, 50177) and data type float64",
     "output_type": "error",
     "traceback": [
      "\u001b[1;31m---------------------------------------------------------------------------\u001b[0m",
      "\u001b[1;31mMemoryError\u001b[0m                               Traceback (most recent call last)",
      "\u001b[1;32m~\\AppData\\Local\\Temp/ipykernel_4380/4143890394.py\u001b[0m in \u001b[0;36m<module>\u001b[1;34m\u001b[0m\n\u001b[0;32m      1\u001b[0m \u001b[1;32mfrom\u001b[0m \u001b[0mdtaidistance\u001b[0m \u001b[1;32mimport\u001b[0m \u001b[0mdtw_visualisation\u001b[0m \u001b[1;32mas\u001b[0m \u001b[0mdtwvis\u001b[0m\u001b[1;33m\u001b[0m\u001b[1;33m\u001b[0m\u001b[0m\n\u001b[1;32m----> 2\u001b[1;33m \u001b[0mdistance\u001b[0m\u001b[1;33m,\u001b[0m \u001b[0mpaths\u001b[0m \u001b[1;33m=\u001b[0m \u001b[0mdtw\u001b[0m\u001b[1;33m.\u001b[0m\u001b[0mwarping_paths\u001b[0m\u001b[1;33m(\u001b[0m\u001b[0mseq1\u001b[0m\u001b[1;33m,\u001b[0m \u001b[0mseq2\u001b[0m\u001b[1;33m)\u001b[0m\u001b[1;33m\u001b[0m\u001b[1;33m\u001b[0m\u001b[0m\n\u001b[0m\u001b[0;32m      3\u001b[0m \u001b[0mbest_path\u001b[0m \u001b[1;33m=\u001b[0m \u001b[0mdtw\u001b[0m\u001b[1;33m.\u001b[0m\u001b[0mbest_path\u001b[0m\u001b[1;33m(\u001b[0m\u001b[0mpaths\u001b[0m\u001b[1;33m)\u001b[0m\u001b[1;33m\u001b[0m\u001b[1;33m\u001b[0m\u001b[0m\n\u001b[0;32m      4\u001b[0m \u001b[0mdtwvis\u001b[0m\u001b[1;33m.\u001b[0m\u001b[0mplot_warpingpaths\u001b[0m\u001b[1;33m(\u001b[0m\u001b[0mseq1\u001b[0m\u001b[1;33m,\u001b[0m \u001b[0mseq2\u001b[0m\u001b[1;33m,\u001b[0m \u001b[0mpaths\u001b[0m\u001b[1;33m,\u001b[0m \u001b[0mbest_path\u001b[0m\u001b[1;33m)\u001b[0m\u001b[1;33m\u001b[0m\u001b[1;33m\u001b[0m\u001b[0m\n",
      "\u001b[1;32mc:\\Users\\Windows\\anaconda3\\lib\\site-packages\\dtaidistance\\dtw.py\u001b[0m in \u001b[0;36mwarping_paths\u001b[1;34m(s1, s2, window, max_dist, use_pruning, max_step, max_length_diff, penalty, psi, psi_neg, use_c, use_ndim)\u001b[0m\n\u001b[0;32m    485\u001b[0m         \u001b[0mec\u001b[0m \u001b[1;33m=\u001b[0m \u001b[0mec_next\u001b[0m\u001b[1;33m\u001b[0m\u001b[1;33m\u001b[0m\u001b[0m\n\u001b[0;32m    486\u001b[0m     \u001b[1;31m# Decide which d to return\u001b[0m\u001b[1;33m\u001b[0m\u001b[1;33m\u001b[0m\u001b[0m\n\u001b[1;32m--> 487\u001b[1;33m     \u001b[0mdtw\u001b[0m \u001b[1;33m=\u001b[0m \u001b[0mnp\u001b[0m\u001b[1;33m.\u001b[0m\u001b[0msqrt\u001b[0m\u001b[1;33m(\u001b[0m\u001b[0mdtw\u001b[0m\u001b[1;33m)\u001b[0m\u001b[1;33m\u001b[0m\u001b[1;33m\u001b[0m\u001b[0m\n\u001b[0m\u001b[0;32m    488\u001b[0m     \u001b[1;32mif\u001b[0m \u001b[0mpsi_1e\u001b[0m \u001b[1;33m==\u001b[0m \u001b[1;36m0\u001b[0m \u001b[1;32mand\u001b[0m \u001b[0mpsi_2e\u001b[0m \u001b[1;33m==\u001b[0m \u001b[1;36m0\u001b[0m\u001b[1;33m:\u001b[0m\u001b[1;33m\u001b[0m\u001b[1;33m\u001b[0m\u001b[0m\n\u001b[0;32m    489\u001b[0m         \u001b[0md\u001b[0m \u001b[1;33m=\u001b[0m \u001b[0mdtw\u001b[0m\u001b[1;33m[\u001b[0m\u001b[0mi1\u001b[0m\u001b[1;33m,\u001b[0m \u001b[0mmin\u001b[0m\u001b[1;33m(\u001b[0m\u001b[0mc\u001b[0m\u001b[1;33m,\u001b[0m \u001b[0mc\u001b[0m \u001b[1;33m+\u001b[0m \u001b[0mwindow\u001b[0m \u001b[1;33m-\u001b[0m \u001b[1;36m1\u001b[0m\u001b[1;33m)\u001b[0m\u001b[1;33m]\u001b[0m\u001b[1;33m\u001b[0m\u001b[1;33m\u001b[0m\u001b[0m\n",
      "\u001b[1;31mMemoryError\u001b[0m: Unable to allocate 18.8 GiB for an array with shape (50177, 50177) and data type float64"
     ]
    }
   ],
   "source": [
    "from dtaidistance import dtw_visualisation as dtwvis\n",
    "distance, paths = dtw.warping_paths(seq1, seq2)\n",
    "best_path = dtw.best_path(paths)\n",
    "dtwvis.plot_warpingpaths(seq1, seq2, paths, best_path)"
   ]
  },
  {
   "cell_type": "code",
   "execution_count": 68,
   "metadata": {},
   "outputs": [
    {
     "name": "stdout",
     "output_type": "stream",
     "text": [
      "4649.275104787842 17465.285511551192\n"
     ]
    }
   ],
   "source": [
    "d_d13 = dtw.distance_fast(seq1, seq3)\n",
    "e_d13 = ed.distance_fast(seq1, seq3)\n",
    "print(d_d13, e_d13)"
   ]
  },
  {
   "cell_type": "code",
   "execution_count": null,
   "metadata": {},
   "outputs": [],
   "source": [
    "distance, paths = dtw.warping_paths(seq1, seq3)\n",
    "best_path = dtw.best_path(paths)\n",
    "dtwvis.plot_warpingpaths(seq1, seq3, paths, best_path)"
   ]
  },
  {
   "cell_type": "code",
   "execution_count": 69,
   "metadata": {},
   "outputs": [
    {
     "name": "stdout",
     "output_type": "stream",
     "text": [
      "2752.9564108427144 14070.70534834697\n"
     ]
    }
   ],
   "source": [
    "d_d122 = dtw.distance_fast(seq1, seq22)\n",
    "e_d122 = ed.distance_fast(seq1, seq22)\n",
    "print(d_d122, e_d122)"
   ]
  },
  {
   "cell_type": "code",
   "execution_count": null,
   "metadata": {},
   "outputs": [],
   "source": [
    "distance, paths = dtw.warping_paths(seq1, seq22)\n",
    "best_path = dtw.best_path(paths)\n",
    "dtwvis.plot_warpingpaths(seq1, seq22, paths, best_path)"
   ]
  },
  {
   "cell_type": "code",
   "execution_count": 70,
   "metadata": {},
   "outputs": [
    {
     "name": "stdout",
     "output_type": "stream",
     "text": [
      "4801.943773098556 15645.461770110845\n"
     ]
    }
   ],
   "source": [
    "d_d132 = dtw.distance_fast(seq1, seq32)\n",
    "e_d132 = ed.distance_fast(seq1, seq32)\n",
    "print(d_d132, e_d132)"
   ]
  },
  {
   "cell_type": "code",
   "execution_count": null,
   "metadata": {},
   "outputs": [],
   "source": [
    "distance, paths = dtw.warping_paths(seq1, seq32)\n",
    "best_path = dtw.best_path(paths)\n",
    "dtwvis.plot_warpingpaths(seq1, seq32, paths, best_path)"
   ]
  }
 ],
 "metadata": {
  "kernelspec": {
   "display_name": "Python 3.9.7 ('base')",
   "language": "python",
   "name": "python3"
  },
  "language_info": {
   "codemirror_mode": {
    "name": "ipython",
    "version": 3
   },
   "file_extension": ".py",
   "mimetype": "text/x-python",
   "name": "python",
   "nbconvert_exporter": "python",
   "pygments_lexer": "ipython3",
   "version": "3.9.7"
  },
  "orig_nbformat": 4,
  "vscode": {
   "interpreter": {
    "hash": "d5a060a823ebfc0a46fed09e5d4d49b6552270a7dac258bcadf0308cb8ded9d9"
   }
  }
 },
 "nbformat": 4,
 "nbformat_minor": 2
}
